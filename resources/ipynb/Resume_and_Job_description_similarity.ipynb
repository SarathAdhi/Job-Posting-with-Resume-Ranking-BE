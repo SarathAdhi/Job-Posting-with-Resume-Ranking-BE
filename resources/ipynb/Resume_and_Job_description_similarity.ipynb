{
  "cells": [
    {
      "cell_type": "code",
      "execution_count": 1,
      "metadata": {
        "id": "D883qSTwSH9Z"
      },
      "outputs": [],
      "source": [
        "\n",
        "import numpy as np\n",
        "import pandas as pd\n",
        "from sklearn.metrics.pairwise import cosine_similarity\n",
        "import matplotlib.pyplot as plt\n",
        "import nltk\n",
        "import re"
      ]
    },
    {
      "cell_type": "code",
      "execution_count": 2,
      "metadata": {
        "colab": {
          "base_uri": "https://localhost:8080/"
        },
        "id": "5hKx_5YQCVb1",
        "outputId": "512f30ec-2e71-4e37-b3e4-521d06013378"
      },
      "outputs": [
        {
          "name": "stderr",
          "output_type": "stream",
          "text": [
            "[nltk_data] Downloading package stopwords to\n",
            "[nltk_data]     C:\\Users\\cocsa\\AppData\\Roaming\\nltk_data...\n",
            "[nltk_data]   Package stopwords is already up-to-date!\n"
          ]
        },
        {
          "data": {
            "text/plain": [
              "True"
            ]
          },
          "execution_count": 2,
          "metadata": {},
          "output_type": "execute_result"
        }
      ],
      "source": [
        "nltk.download('stopwords')"
      ]
    },
    {
      "cell_type": "code",
      "execution_count": 3,
      "metadata": {
        "colab": {
          "base_uri": "https://localhost:8080/"
        },
        "id": "eobJJtF3CQxE",
        "outputId": "3ee5196a-c6d2-4d00-feaf-65bdab565aab"
      },
      "outputs": [
        {
          "name": "stderr",
          "output_type": "stream",
          "text": [
            "c:\\Users\\cocsa\\AppData\\Local\\Programs\\Python\\Python39\\lib\\site-packages\\requests\\__init__.py:102: RequestsDependencyWarning: urllib3 (1.26.6) or chardet (5.1.0)/charset_normalizer (2.0.4) doesn't match a supported version!\n",
            "  warnings.warn(\"urllib3 ({}) or chardet ({})/charset_normalizer ({}) doesn't match a supported \"\n"
          ]
        }
      ],
      "source": [
        "from pyresparser import ResumeParser\n",
        "import docx2txt"
      ]
    },
    {
      "cell_type": "markdown",
      "metadata": {
        "id": "QPFWJ3AtExaW"
      },
      "source": [
        "# Main Code"
      ]
    },
    {
      "cell_type": "code",
      "execution_count": 4,
      "metadata": {
        "id": "QSmy8itWCv7M"
      },
      "outputs": [],
      "source": [
        "ui_resume = \"../resumes/UIUX_Resume1.pdf\"\n",
        "ds_resume = \"../resumes/data-scientist-1559725114.pdf\""
      ]
    },
    {
      "cell_type": "code",
      "execution_count": 5,
      "metadata": {
        "id": "Mjp074BcDbDk"
      },
      "outputs": [],
      "source": [
        "ui_job_d = docx2txt.process(\"./job_description_ui.docx\")\n",
        "ds_job_d = docx2txt.process(\"./job_description_data_science.docx\")"
      ]
    },
    {
      "cell_type": "code",
      "execution_count": 6,
      "metadata": {},
      "outputs": [],
      "source": [
        "from pyresparser import ResumeParser\n",
        "from pdfminer3.layout import LAParams, LTTextBox\n",
        "from pdfminer3.pdfpage import PDFPage\n",
        "from pdfminer3.pdfinterp import PDFResourceManager\n",
        "from pdfminer3.pdfinterp import PDFPageInterpreter\n",
        "from pdfminer3.converter import TextConverter\n",
        "import io"
      ]
    },
    {
      "cell_type": "code",
      "execution_count": 7,
      "metadata": {},
      "outputs": [],
      "source": [
        "def pdf_reader(file):\n",
        "    resource_manager = PDFResourceManager()\n",
        "    fake_file_handle = io.StringIO()\n",
        "    converter = TextConverter(resource_manager, fake_file_handle, laparams=LAParams())\n",
        "    page_interpreter = PDFPageInterpreter(resource_manager, converter)\n",
        "    with open(file, 'rb') as fh:\n",
        "        for page in PDFPage.get_pages(fh,\n",
        "                                      caching=True,\n",
        "                                      check_extractable=True):\n",
        "            page_interpreter.process_page(page)\n",
        "            print(page)\n",
        "        text = fake_file_handle.getvalue()\n",
        "\n",
        "    # close open handles\n",
        "    converter.close()\n",
        "    fake_file_handle.close()\n",
        "    return text"
      ]
    },
    {
      "cell_type": "code",
      "execution_count": 8,
      "metadata": {},
      "outputs": [],
      "source": [
        "def cleanResume(resumeText):\n",
        "    resumeText = re.sub('http\\S+\\s*', ' ', resumeText)  # remove URLs\n",
        "    resumeText = re.sub('RT|cc', ' ', resumeText)  # remove RT and cc\n",
        "    resumeText = re.sub('#\\S+', '', resumeText)  # remove hashtags\n",
        "    resumeText = re.sub('@\\S+', '  ', resumeText)  # remove mentions\n",
        "    resumeText = re.sub('[%s]' % re.escape(\"\"\"!\"#$%&'()*+,-./:;<=>?@[\\]^_`{|}~\"\"\"), ' ', resumeText)  # remove punctuations\n",
        "    resumeText = re.sub(r'[^\\x00-\\x7f]',r' ', resumeText) \n",
        "    resumeText = re.sub('\\s+', ' ', resumeText)  # remove extra whitespace\n",
        "    return resumeText"
      ]
    },
    {
      "attachments": {},
      "cell_type": "markdown",
      "metadata": {},
      "source": [
        "## For UI Developer"
      ]
    },
    {
      "cell_type": "code",
      "execution_count": 9,
      "metadata": {
        "colab": {
          "base_uri": "https://localhost:8080/",
          "height": 347
        },
        "id": "DCQlBLH6EIzN",
        "outputId": "46bed8a7-5bad-496f-d763-79b15f7d979c"
      },
      "outputs": [
        {
          "name": "stdout",
          "output_type": "stream",
          "text": [
            "<PDFPage: Resources={'ColorSpace': {'CS0': <PDFObjRef:11>}, 'ExtGState': {'GS0': <PDFObjRef:24>, 'GS1': <PDFObjRef:25>}, 'Font': {'C2_0': <PDFObjRef:14>, 'T1_0': <PDFObjRef:15>, 'TT0': <PDFObjRef:16>}, 'ProcSet': [/'PDF', /'Text']}, MediaBox=[0.0, 0.0, 612.0, 792.0]>\n"
          ]
        }
      ],
      "source": [
        "# Reading resume\n",
        "resume_data_ui = pdf_reader(ui_resume)\n",
        "resume_data_ui = cleanResume(resume_data_ui)"
      ]
    },
    {
      "cell_type": "code",
      "execution_count": 10,
      "metadata": {},
      "outputs": [
        {
          "name": "stdout",
          "output_type": "stream",
          "text": [
            "art director graphic designer experience brokaw art director 1 18 present Collaborate to develop unexpected strategy based creative campaigns from start to finish A ountable for a variety of print digital collateral and social content Direct photo and video shoots to support campaigns Drink a lot of the world s worst coffee and Great Lakes beer contact hello 216 212 2327 behance net allisonbeer education marcus thomas art direction intern 9 17 12 17 Created print and digital assets to support existing campaigns Designed app identity for one of the agency s largest clients Assisted on photo and video shoots in in house production studio Pet many dogs miami university 2017 B F A in Graphic Design Minors in Interactive Media and Art History Honors Summa Cum Laude Stamps Leadership Scholar President s List punk talks web designer 5 17 3 19 Maintained punktalks org Worked with developer to design and launch custom Wordpress site Created graphics for social and print distribution Advocated that you don t have to be sad to make great music go media graphic design intern 5 16 8 16 Worked directly with clients to create brand identities and website layouts Created print materials for Weapons of Mass Creation Fest Made Photoshop mockups from scratch for the Arsenal web store Mastered the pen tool recognition adweek 9 19 Lake View Cemetery 2019 campaign The 9 billboards skills adobe creative cloud Photoshop Illustrator InDesign Premiere Pro After Effects web development HTML CSS SASS Wordpress miscellaneous Hand media letterpress printing Prototyping Invision Axure \n"
          ]
        }
      ],
      "source": [
        "print(resume_data_ui)"
      ]
    },
    {
      "cell_type": "code",
      "execution_count": 11,
      "metadata": {},
      "outputs": [],
      "source": [
        "text_ui = [resume_data_ui, ui_job_d]"
      ]
    },
    {
      "cell_type": "code",
      "execution_count": 12,
      "metadata": {},
      "outputs": [],
      "source": [
        "from sklearn.feature_extraction.text import CountVectorizer\n",
        "from sklearn.metrics.pairwise import cosine_similarity"
      ]
    },
    {
      "cell_type": "code",
      "execution_count": 13,
      "metadata": {},
      "outputs": [
        {
          "name": "stdout",
          "output_type": "stream",
          "text": [
            "\n",
            "Similarity Scores:\n",
            "[[1.         0.57137089]\n",
            " [0.57137089 1.        ]]\n"
          ]
        }
      ],
      "source": [
        "cv = CountVectorizer()\n",
        "count_matrix_ui = cv.fit_transform(text_ui)\n",
        "\n",
        "#Print the similarity scores\n",
        "print(\"\\nSimilarity Scores:\")\n",
        "print(cosine_similarity(count_matrix_ui))"
      ]
    },
    {
      "cell_type": "code",
      "execution_count": 14,
      "metadata": {},
      "outputs": [
        {
          "name": "stdout",
          "output_type": "stream",
          "text": [
            "Your resume matches about 57.14% of the job description.\n"
          ]
        }
      ],
      "source": [
        "matchPercentage_ui = cosine_similarity(count_matrix_ui)[0][1] * 100\n",
        "matchPercentage_ui = round(matchPercentage_ui, 2) # round to two decimal\n",
        "print(\"Your resume matches about \"+ str(matchPercentage_ui)+ \"% of the job description.\")"
      ]
    },
    {
      "attachments": {},
      "cell_type": "markdown",
      "metadata": {},
      "source": [
        "## For Data scientist"
      ]
    },
    {
      "cell_type": "code",
      "execution_count": 15,
      "metadata": {},
      "outputs": [
        {
          "name": "stdout",
          "output_type": "stream",
          "text": [
            "<PDFPage: Resources={'Font': <PDFObjRef:40>, 'ProcSet': [/'PDF', /'Text']}, MediaBox=[0, 0, 612, 792]>\n",
            "<PDFPage: Resources={'Font': <PDFObjRef:40>, 'ProcSet': [/'PDF', /'Text']}, MediaBox=[0, 0, 612, 792]>\n"
          ]
        },
        {
          "data": {
            "text/plain": [
              "'Data Scientist ROBE SMITH Phone 123 456 78 99 Email info Website www qwikresume com LinkedIn linkedin com qwikresume Address 1737 Marshville Road Alabama Objective Data Scientist with PhD in Physics and 1 industrial experience Two years of working experience in Data Analysis team of LIGO Scientific Collaboration 3M Special Breakthrough Prize winner of 2016 Over ten years of su essful research experience in both theoretical and computational physics Strong problem solving and analytical skills Advanced programming proficiency Certified in Data Analysis and Machine Learning Skills Data Mining Data Analysis Machine Learning Python R MATLAB Sphinx LaTeX Mathematica Maple GIT CVS HTCondor Work Experience Data Scientist ABC Corporation May 1994 May 2005 Assisted in determining client needs deliverable design estimates and feasibility for analytical projects concerning a custom study for a manufacturer who is using the results to support a litigation claim Served as an internal resource for Jacknife programming and documentation Designed and developed small scale deliverables related to the custom study Participated in the Post Project Review QIP team Responsible for results reporting in the appropriate media and creation of supporting Monitored products from statistical programs for a uracy consistency and statistical validity Designed and applied statistical and mathematical methods for corporate analytics that were documentation for the client implemented into client facing products Data Scientist ABC Corporation 1993 1994 Maintained automated ETL for reporting Implemented Data mining and machine learning algorithms to describe and predict user behavior on various retailer websites I revamped their quot Predictive Marketing quot process to be more data driven and profitable increase in conversion The new process was able to hone in on more useful user segments that had a significant Skills Used Data Cleansing and Data Analysis using Python Scala R and Spark Cloud computing on AWS Automation of reporting Education This Free Resume Template is the copyright of Qwikresume com Usage Guidelines Bachelor Of Science Stanford This Free Resume Template is the copyright of Qwikresume com Usage Guidelines '"
            ]
          },
          "execution_count": 15,
          "metadata": {},
          "output_type": "execute_result"
        }
      ],
      "source": [
        "resume_data_ds = pdf_reader(ds_resume)\n",
        "resume_data_ds = cleanResume(resume_data_ds)\n",
        "resume_data_ds"
      ]
    },
    {
      "cell_type": "code",
      "execution_count": 16,
      "metadata": {},
      "outputs": [],
      "source": [
        "text_ds = [resume_data_ds, ds_job_d]"
      ]
    },
    {
      "cell_type": "code",
      "execution_count": 17,
      "metadata": {},
      "outputs": [
        {
          "name": "stdout",
          "output_type": "stream",
          "text": [
            "\n",
            "Similarity Scores:\n",
            "[[1.         0.67008087]\n",
            " [0.67008087 1.        ]]\n"
          ]
        }
      ],
      "source": [
        "cv = CountVectorizer()\n",
        "count_matrix_ds = cv.fit_transform(text_ds)\n",
        "\n",
        "#Print the similarity scores\n",
        "print(\"\\nSimilarity Scores:\")\n",
        "print(cosine_similarity(count_matrix_ds))"
      ]
    },
    {
      "cell_type": "code",
      "execution_count": 18,
      "metadata": {},
      "outputs": [
        {
          "name": "stdout",
          "output_type": "stream",
          "text": [
            "Your resume matches about 67.01% of the job description.\n"
          ]
        }
      ],
      "source": [
        "matchPercentage_ds = cosine_similarity(count_matrix_ds)[0][1] * 100\n",
        "matchPercentage_ds = round(matchPercentage_ds, 2) # round to two decimal\n",
        "print(\"Your resume matches about \"+ str(matchPercentage_ds)+ \"% of the job description.\")"
      ]
    },
    {
      "attachments": {},
      "cell_type": "markdown",
      "metadata": {},
      "source": [
        "## UI Developer applies to Data Scientist Role"
      ]
    },
    {
      "cell_type": "code",
      "execution_count": 37,
      "metadata": {},
      "outputs": [
        {
          "name": "stderr",
          "output_type": "stream",
          "text": [
            "c:\\Users\\cocsa\\AppData\\Local\\Programs\\Python\\Python39\\lib\\site-packages\\spacy\\util.py:275: UserWarning: [W031] Model 'en_training' (0.0.0) requires spaCy v2.1 and is incompatible with the current spaCy version (2.3.5). This may lead to unexpected results or runtime errors. To resolve this, download a newer compatible model or retrain your custom model with the current spaCy version. For more details and available updates, run: python -m spacy validate\n",
            "  warnings.warn(warn_msg)\n"
          ]
        },
        {
          "name": "stdout",
          "output_type": "stream",
          "text": [
            "art director Photoshop Design Brand Website Prototyping Video Adobe Html Wordpress Cloud Illustrator Css Graphic design Distribution Indesign Strategy Content Interactivebrokaw  •  art director  •  1/18–present Collaborate to develop unexpected, strategy-based creative campaigns from start to finish. Accountable for a variety of print & digital collateral and social content. Direct photo and video shoots to support campaigns. Drink a lot of the world’s worst coffee and Great Lakes beer. contact hello@allisonbeer.com 216.212.2327 behance.net/allisonbeer\n",
            "art director Photoshop Design Brand Website Prototyping Video Adobe Html Wordpress Cloud Illustrator Css Graphic design Distribution Indesign Strategy Content Interactivebrokaw art director 1 18 present Collaborate to develop unexpected strategy based creative campaigns from start to finish A ountable for a variety of print digital collateral and social content Direct photo and video shoots to support campaigns Drink a lot of the world s worst coffee and Great Lakes beer contact hello 216 212 2327 behance net allisonbeer\n"
          ]
        }
      ],
      "source": [
        "data = ResumeParser(ui_resume).get_extracted_data()\n",
        "string = \"\"\n",
        "\n",
        "string += data['name'] + \" \"\n",
        "string += \" \".join(data['skills'])\n",
        "string += \" \".join(data['experience'])\n",
        "\n",
        "print(string)\n",
        "\n",
        "resume_data_ud = cleanResume(string)\n",
        "print(resume_data_ud)\n",
        "\n",
        "\n",
        "# skills = []\n",
        "# skills.append(' '.join(word for word in resume))\n",
        "# org_name_clean = skills\n",
        "\n",
        "# resume_data_ui = pdf_reader(ui_resume)\n",
        "# resume_data_ui = cleanResume(resume_data_ui)"
      ]
    },
    {
      "cell_type": "code",
      "execution_count": 41,
      "metadata": {},
      "outputs": [],
      "source": [
        "text_ud = [resume_data_ud, ds_job_d]"
      ]
    },
    {
      "cell_type": "code",
      "execution_count": 42,
      "metadata": {},
      "outputs": [
        {
          "name": "stdout",
          "output_type": "stream",
          "text": [
            "\n",
            "Similarity Scores:\n",
            "[[1.        0.2706388]\n",
            " [0.2706388 1.       ]]\n"
          ]
        }
      ],
      "source": [
        "# Convert a collection of text documents to a matrix of token counts.\n",
        "cv = CountVectorizer()\n",
        "# Learn the vocabulary dictionary and return document-term matrix.\n",
        "# This is equivalent to fit followed by transform, but more efficiently implemented.\n",
        "count_matrix_ud = cv.fit_transform(text_ud)\n",
        "\n",
        "#Print the similarity scores\n",
        "print(\"\\nSimilarity Scores:\")\n",
        "print(cosine_similarity(count_matrix_ud))"
      ]
    },
    {
      "cell_type": "code",
      "execution_count": 43,
      "metadata": {},
      "outputs": [
        {
          "name": "stdout",
          "output_type": "stream",
          "text": [
            "Your resume matches about 27.06% of the job description.\n"
          ]
        }
      ],
      "source": [
        "matchPercentage_ud = cosine_similarity(count_matrix_ud)[0][1] * 100\n",
        "matchPercentage_ud = round(matchPercentage_ud, 2) # round to two decimal\n",
        "print(\"Your resume matches about \"+ str(matchPercentage_ud)+ \"% of the job description.\")"
      ]
    }
  ],
  "metadata": {
    "colab": {
      "provenance": []
    },
    "kernelspec": {
      "display_name": "Python 3",
      "language": "python",
      "name": "python3"
    },
    "language_info": {
      "codemirror_mode": {
        "name": "ipython",
        "version": 3
      },
      "file_extension": ".py",
      "mimetype": "text/x-python",
      "name": "python",
      "nbconvert_exporter": "python",
      "pygments_lexer": "ipython3",
      "version": "3.9.9"
    },
    "vscode": {
      "interpreter": {
        "hash": "de1508493c2f6b58da7675d475ff7fded386c0f44d06a861b289a65007a6b526"
      }
    }
  },
  "nbformat": 4,
  "nbformat_minor": 0
}
